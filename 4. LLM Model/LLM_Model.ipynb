{
 "cells": [
  {
   "cell_type": "markdown",
   "id": "942f4ea1",
   "metadata": {},
   "source": [
    "### GPT-2 Architecture"
   ]
  },
  {
   "cell_type": "code",
   "execution_count": 2,
   "id": "f17665bb",
   "metadata": {},
   "outputs": [],
   "source": [
    "# GPT COnfiguration\n",
    "GPT_CONFIG_124M ={\n",
    "    \"Vocab_size\": 50527,    # Vocabulary size\n",
    "    \"context_length\": 1024, # Context length\n",
    "    \"emb_dim\":768,          # Embedding dimension\n",
    "    \"n_heads\":12,           # Number of attention heads\n",
    "    \"n_layers\":12,          # NUmber of layers\n",
    "    \"drop_rate\":0.1,         # Dropout rate\n",
    "    \"qkv_bias\":False        # Query-key-value bias\n",
    "}"
   ]
  },
  {
   "cell_type": "markdown",
   "id": "1d8d72ed",
   "metadata": {},
   "source": [
    "### GPT ARCHITECTURE : DUMMY GPT MODEL CLASS"
   ]
  },
  {
   "cell_type": "code",
   "execution_count": 8,
   "id": "6ff2d6c8",
   "metadata": {},
   "outputs": [],
   "source": [
    "import torch\n",
    "import torch.nn as nn\n",
    "\n",
    "# Dummy GPT Model\n",
    "class DummyGPTModel(nn.Module):\n",
    "    def __init__(self, cfg):\n",
    "        super().__init__()\n",
    "        self.tok_emb = nn.Embedding(cfg[\"Vocab_size\"], cfg[\"emb_dim\"])\n",
    "        self.pos_emb = nn.Embedding(cfg[\"context_length\"], cfg[\"emb_dim\"])\n",
    "        self.drop_emb = nn.Dropout(cfg[\"drop_rate\"])\n",
    "\n",
    "        # Use a placeholder for Transformer block\n",
    "        self.trf_blocks = nn.Sequential(\n",
    "            *[DummyTransformerBlock(cfg) for _ in range(cfg[\"n_layers\"])]\n",
    "        )\n",
    "\n",
    "        # Use a placeholder for LayerNorm\n",
    "        self.final_norm = DummyLayerNorm(cfg[\"emb_dim\"])\n",
    "        self.out_head = nn.Linear(\n",
    "            cfg[\"emb_dim\"], cfg[\"Vocab_size\"] , bias = False\n",
    "        )\n",
    "    \n",
    "    # forward method\n",
    "    def forward(self, in_idx):\n",
    "        batch_size, seq_len = in_idx.shape\n",
    "        tok_embeds = self.tok_emb(in_idx)\n",
    "        pos_embeds = self.pos_emb(torch.arange(seq_len, device=in_idx.device))\n",
    "        x = tok_embeds + pos_embeds\n",
    "        x = self.drop_emb(x)\n",
    "        x = self.trf_blocks(x)\n",
    "        x = self.final_norm(x)\n",
    "        logits = self.out_head(x)\n",
    "        return logits\n",
    "\n",
    "\n",
    "# Transformer Block\n",
    "class DummyTransformerBlock(nn.Module):\n",
    "    def __init__(self,cfg):\n",
    "        super().__init__()\n",
    "        # simple placeholder\n",
    "\n",
    "    # Forward Method\n",
    "    def forward(self,x):\n",
    "        # this block return input x .\n",
    "        return x\n",
    "\n",
    "# Dummy Layer Norm Block\n",
    "class DummyLayerNorm(nn.Module):\n",
    "    def __init__(self, normalized_shape, eps = 1e-5):\n",
    "        super().__init__()\n",
    "        # simple placeholder\n",
    "    \n",
    "    # Forward Method\n",
    "    def forward(self, x):\n",
    "        # this block return input x .\n",
    "        return x"
   ]
  },
  {
   "cell_type": "markdown",
   "id": "ca9043e8",
   "metadata": {},
   "source": [
    "### Initalize Dummpy GPT Class"
   ]
  },
  {
   "cell_type": "code",
   "execution_count": 12,
   "id": "ad7ef7c7",
   "metadata": {},
   "outputs": [
    {
     "name": "stdout",
     "output_type": "stream",
     "text": [
      "torch.Size([2, 4])\n"
     ]
    }
   ],
   "source": [
    "import tiktoken as tk\n",
    "\n",
    "tokenizer = tk.get_encoding(\"gpt2\")\n",
    "batch = []\n",
    "txt1 =\"your every effort moves\"\n",
    "txt2 = \"your day holds a\"\n",
    "\n",
    "batch.append(torch.tensor(tokenizer.encode(txt1)))\n",
    "batch.append(torch.tensor(tokenizer.encode(txt2)))\n",
    "\n",
    "batch= torch.stack(batch, dim=0)\n",
    "\n",
    "# print shape of batch\n",
    "print(batch.shape) # (2, 20)"
   ]
  },
  {
   "cell_type": "code",
   "execution_count": 13,
   "id": "ca87be7c",
   "metadata": {},
   "outputs": [
    {
     "name": "stdout",
     "output_type": "stream",
     "text": [
      "DummyGPTModel(\n",
      "  (tok_emb): Embedding(50527, 768)\n",
      "  (pos_emb): Embedding(1024, 768)\n",
      "  (drop_emb): Dropout(p=0.1, inplace=False)\n",
      "  (trf_blocks): Sequential(\n",
      "    (0): DummyTransformerBlock()\n",
      "    (1): DummyTransformerBlock()\n",
      "    (2): DummyTransformerBlock()\n",
      "    (3): DummyTransformerBlock()\n",
      "    (4): DummyTransformerBlock()\n",
      "    (5): DummyTransformerBlock()\n",
      "    (6): DummyTransformerBlock()\n",
      "    (7): DummyTransformerBlock()\n",
      "    (8): DummyTransformerBlock()\n",
      "    (9): DummyTransformerBlock()\n",
      "    (10): DummyTransformerBlock()\n",
      "    (11): DummyTransformerBlock()\n",
      "  )\n",
      "  (final_norm): DummyLayerNorm()\n",
      "  (out_head): Linear(in_features=768, out_features=50527, bias=False)\n",
      ")\n"
     ]
    }
   ],
   "source": [
    "torch.manual_seed(123)\n",
    "\n",
    "# define the model\n",
    "model = DummyGPTModel(GPT_CONFIG_124M)\n",
    "\n",
    "# print model structure\n",
    "print(model)\n"
   ]
  },
  {
   "cell_type": "code",
   "execution_count": 14,
   "id": "9b9182dc",
   "metadata": {},
   "outputs": [
    {
     "name": "stdout",
     "output_type": "stream",
     "text": [
      "torch.Size([2, 4, 50527])\n",
      "tensor([[[-1.2256,  0.7756, -0.0776,  ..., -0.5314, -0.7036, -1.0176],\n",
      "         [-0.3171, -0.7252, -0.3411,  ..., -0.3467, -1.6318, -0.5773],\n",
      "         [ 0.5597,  0.0986,  0.4047,  ..., -0.0595, -0.8096, -1.8774],\n",
      "         [ 1.5765, -0.0267,  0.5045,  ..., -0.0574, -1.3881, -1.0802]],\n",
      "\n",
      "        [[-1.3013,  0.7430,  0.1117,  ..., -0.0726,  0.1091, -1.4815],\n",
      "         [-0.4063, -0.6273,  0.9828,  ..., -0.6344,  0.0545, -0.0326],\n",
      "         [-0.2660, -1.7609,  0.6074,  ..., -1.1383, -0.7710, -0.9709],\n",
      "         [ 0.5479, -1.3437,  1.2603,  ...,  0.6285, -0.2088, -2.5608]]],\n",
      "       grad_fn=<UnsafeViewBackward0>)\n"
     ]
    }
   ],
   "source": [
    "logits = model(batch)\n",
    "# print logits shape\n",
    "print(logits.shape) # (2, 20, 50527)\n",
    "# print logits\n",
    "print(logits) # tensor of shape (2, 20, 50527)"
   ]
  }
 ],
 "metadata": {
  "kernelspec": {
   "display_name": "base",
   "language": "python",
   "name": "python3"
  },
  "language_info": {
   "codemirror_mode": {
    "name": "ipython",
    "version": 3
   },
   "file_extension": ".py",
   "mimetype": "text/x-python",
   "name": "python",
   "nbconvert_exporter": "python",
   "pygments_lexer": "ipython3",
   "version": "3.12.7"
  }
 },
 "nbformat": 4,
 "nbformat_minor": 5
}
