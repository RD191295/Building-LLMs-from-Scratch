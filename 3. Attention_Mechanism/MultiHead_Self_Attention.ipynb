{
 "cells": [
  {
   "cell_type": "code",
   "execution_count": 1,
   "id": "8ee44fec",
   "metadata": {},
   "outputs": [],
   "source": [
    "import torch.nn as nn\n",
    "import torch"
   ]
  },
  {
   "cell_type": "code",
   "execution_count": 2,
   "id": "c85de10c",
   "metadata": {},
   "outputs": [],
   "source": [
    "class CausalAttention(nn.Module):\n",
    "\n",
    "    def __init__(self, d_in, d_out,context_length,dropout, qkv_bias = False):\n",
    "        super().__init__()\n",
    "        self.d_out = d_out\n",
    "        self.W_query = nn.Linear(d_in, d_out,bias=qkv_bias)\n",
    "        self.W_key   = nn.Linear(d_in, d_out,bias=qkv_bias)\n",
    "        self.W_value = nn.Linear(d_in, d_out,bias=qkv_bias)\n",
    "        self.dropout = nn.Dropout(dropout)\n",
    "        self.register_buffer('mask', torch.triu(torch.ones(context_length,context_length),diagonal=1))\n",
    "    \n",
    "\n",
    "    def forward(self, x):\n",
    "        b, num_tokens, d_in = x.shape\n",
    "        keys = self.W_key(x)\n",
    "        queries = self.W_query(x)\n",
    "        values = self.W_value(x)\n",
    "\n",
    "        attn_scores = queries @ keys.transpose(1,2)\n",
    "        attn_scores.masked_fill(\n",
    "            self.mask.bool()[:num_tokens,:num_tokens],-torch.inf)\n",
    "        \n",
    "        attn_weights = torch.softmax(\n",
    "            attn_scores / keys.shape[-1] ** 0.5 , dim = -1\n",
    "        )\n",
    "\n",
    "        attn_weights = self.dropout(attn_weights)\n",
    "        context_vector = attn_weights @ values\n",
    "\n",
    "        return context_vector"
   ]
  },
  {
   "cell_type": "code",
   "execution_count": 3,
   "id": "ca3f25af",
   "metadata": {},
   "outputs": [],
   "source": [
    "class MultiAttentionWrapper(nn.Module):\n",
    "\n",
    "    def __init__(self,d_in:int ,d_out:int, context_length, dropout:float,\n",
    "                 num_heads:int,qkv_bias:bool=False):\n",
    "        super().__init__()\n",
    "        self.heads = nn.ModuleList(\n",
    "            [CausalAttention(d_in, d_out,context_length,dropout, qkv_bias)\n",
    "             for _ in range(num_heads)]\n",
    "        )\n",
    "    \n",
    "\n",
    "    def forward(self,x):\n",
    "        return torch.cat([head(x) for head in self.heads], dim = -1)"
   ]
  },
  {
   "cell_type": "code",
   "execution_count": 4,
   "id": "f215a2ae",
   "metadata": {},
   "outputs": [],
   "source": [
    "import torch\n",
    "\n",
    "inputs = torch.tensor(\n",
    "    [[0.43, 0.15, 0.89],  # your      (x^1)\n",
    "     [0.55, 0.87, 0.66],  # journey   (x^2)\n",
    "     [0.57, 0.85, 0.64],  # starts    (x^3)\n",
    "     [0.22, 0.58, 0.34],  # with      (x^4)\n",
    "     [0.77, 0.25, 0.10],  # one       (x^5)\n",
    "     [0.05, 0.81, 0.55]]  # step      (x^6)\n",
    " )"
   ]
  },
  {
   "cell_type": "code",
   "execution_count": 5,
   "id": "633bc045",
   "metadata": {},
   "outputs": [
    {
     "name": "stdout",
     "output_type": "stream",
     "text": [
      "torch.Size([2, 6, 3])\n"
     ]
    }
   ],
   "source": [
    "batch = torch.stack((inputs,inputs), dim = 0)\n",
    "print(batch.shape)"
   ]
  },
  {
   "cell_type": "code",
   "execution_count": 6,
   "id": "55a6e32c",
   "metadata": {},
   "outputs": [],
   "source": [
    "torch.manual_seed(123)\n",
    "context_length = batch.shape[1]\n",
    "d_in,d_out = 3,2"
   ]
  },
  {
   "cell_type": "code",
   "execution_count": 7,
   "id": "8b405a58",
   "metadata": {},
   "outputs": [
    {
     "data": {
      "text/plain": [
       "tensor([[[-0.5940, -0.1169,  0.4356,  0.2951],\n",
       "         [-0.4542, -0.0819,  0.5659,  0.3906],\n",
       "         [-0.5925, -0.1201,  0.4935,  0.3742],\n",
       "         [-0.5896, -0.1197,  0.4859,  0.3689],\n",
       "         [-0.5222, -0.0913,  0.5650,  0.3837],\n",
       "         [-0.5083, -0.1602,  0.4977,  0.3310]],\n",
       "\n",
       "        [[-0.4200, -0.1303,  0.5660,  0.3905],\n",
       "         [-0.4537, -0.0820,  0.4941,  0.3238],\n",
       "         [-0.5925, -0.1201,  0.4262,  0.3163],\n",
       "         [-0.5896, -0.1197,  0.5648,  0.3865],\n",
       "         [-0.5910, -0.1186,  0.5650,  0.3837],\n",
       "         [-0.4547, -0.0829,  0.4926,  0.3217]]], grad_fn=<CatBackward0>)"
      ]
     },
     "execution_count": 7,
     "metadata": {},
     "output_type": "execute_result"
    }
   ],
   "source": [
    "mha = MultiAttentionWrapper(d_in,d_out, context_length, dropout=0.1,num_heads=2)\n",
    "\n",
    "context_vector = mha(batch)\n",
    "context_vector"
   ]
  },
  {
   "cell_type": "code",
   "execution_count": 8,
   "id": "d1cd5e54",
   "metadata": {},
   "outputs": [],
   "source": [
    "class MultiHeadAttention(nn.Module):\n",
    "    def __init__(self, d_in, d_out, context_length, dropout, num_heads, qkv_bias = False):\n",
    "        super().__init__()\n",
    "        assert (d_out % num_heads == 0),\\\n",
    "            \"d_out must be divisible by num_heads\"\n",
    "        \n",
    "        self.d_out = d_out\n",
    "        self.num_heads = num_heads\n",
    "        self.head_dim = d_out // num_heads  # reduce the projection dim to match desired output dim\n",
    "\n",
    "        self.W_query = nn.Linear(d_in, d_out,bias=qkv_bias)\n",
    "        self.W_key   = nn.Linear(d_in, d_out,bias=qkv_bias)\n",
    "        self.W_value = nn.Linear(d_in, d_out,bias=qkv_bias)\n",
    "        self.out_proj = nn.Linear(d_out, d_out) # Linear layer to combine head outputs\n",
    "        self.dropout = nn.Dropout(dropout)\n",
    "        self.register_buffer(\n",
    "            'mask', \n",
    "            torch.triu(torch.ones(context_length,context_length),\n",
    "                       diagonal=1)\n",
    "        )\n",
    "\n",
    "    \n",
    "    def forward(self, x):\n",
    "        b, num_tokens, d_in = x.shape\n",
    "\n",
    "        keys = self.W_key(x)\n",
    "        queries = self.W_query(x)\n",
    "        values = self.W_value(x)\n",
    "\n",
    "        # we implicitly split the matrix by adding a num_heads dim\n",
    "        # unroll last dim: (b,Num_tokens, d_out) -> (b, num_token, num_heads, head_dim)\n",
    "        keys = keys.view(b, num_tokens, self.num_heads, self.head_dim)\n",
    "        queries = queries.view(b, num_tokens, self.num_heads, self.head_dim)\n",
    "        values = values.view(b, num_tokens, self.num_heads, self.head_dim)\n",
    "\n",
    "        # group matricies by num_head by transpose\n",
    "        # (b, num_token, num_heads, head_dim) -> (b, num_heads, num_token,head_dim)\n",
    "        keys = keys.transpose(1,2)\n",
    "        queries = queries.transpose(1,2)\n",
    "        values = values.transpose(1,2)\n",
    "\n",
    "        \n",
    "        attn_scores = queries @ keys.transpose(2,3)\n",
    "\n",
    "\n",
    "        mask_bool = self.mask.bool()[:num_tokens,:num_tokens]\n",
    "\n",
    "        attn_scores.masked_fill(mask_bool, -torch.inf)\n",
    "        \n",
    "        #apply softmax\n",
    "        attn_weights = torch.softmax(\n",
    "            attn_scores / keys.shape[-1] ** 0.5 , dim = -1\n",
    "        )\n",
    "\n",
    "        # dropout layer\n",
    "        attn_weights = self.dropout(attn_weights)\n",
    "\n",
    "        # transpose attn_weights\n",
    "        context_vec = (attn_weights @ values).transpose(1,2)\n",
    "\n",
    "        #combine result obtain from multiple heads self.d_out = self.num_heads * self.head_dim\n",
    "        context_vec = context_vec.contiguous().view(b, num_tokens, self.d_out)\n",
    "        context_vec = self.out_proj(context_vec)\n",
    "\n",
    "\n",
    "        return context_vec        "
   ]
  },
  {
   "cell_type": "code",
   "execution_count": 9,
   "id": "5f4b3c58",
   "metadata": {},
   "outputs": [],
   "source": [
    "import torch\n",
    "\n",
    "inputs = torch.tensor(\n",
    "    [[0.43, 0.15, 0.89, 0.34, 0.87, 0.66],  # your      (x^1)\n",
    "     [0.55, 0.87, 0.66, 0.22, 0.58, 0.33],  # journey   (x^2)\n",
    "     [0.57, 0.85, 0.64, 0.05, 0.80, 0.55],  # starts    (x^3)\n",
    "     [0.22, 0.58, 0.34, 0.45, 0.57, 0.34],  # with      (x^4)\n",
    "     [0.77, 0.25, 0.10, 0.32, 0.05, 0.13],  # one       (x^5)\n",
    "     [0.05, 0.81, 0.55, 0.78, 0.29, 0.15]]  # step      (x^6)\n",
    " )"
   ]
  },
  {
   "cell_type": "code",
   "execution_count": 10,
   "id": "b8986305",
   "metadata": {},
   "outputs": [
    {
     "name": "stdout",
     "output_type": "stream",
     "text": [
      "torch.Size([2, 6, 6])\n"
     ]
    }
   ],
   "source": [
    "batch = torch.stack((inputs,inputs), dim = 0)\n",
    "print(batch.shape)"
   ]
  },
  {
   "cell_type": "code",
   "execution_count": 11,
   "id": "0feec715",
   "metadata": {},
   "outputs": [
    {
     "name": "stdout",
     "output_type": "stream",
     "text": [
      "tensor([[[-0.4720,  0.1788, -0.1759, -0.0175, -0.4530, -0.1445],\n",
      "         [-0.4636,  0.2161, -0.1830, -0.0332, -0.4252, -0.1709],\n",
      "         [-0.4987,  0.2123, -0.1469, -0.0131, -0.4898, -0.1171],\n",
      "         [-0.4987,  0.2162, -0.1468, -0.0141, -0.4894, -0.1183],\n",
      "         [-0.4617,  0.2538, -0.1623, -0.0280, -0.4483, -0.1747],\n",
      "         [-0.4658,  0.1950, -0.1687, -0.0453, -0.4531, -0.1846]],\n",
      "\n",
      "        [[-0.4603,  0.2349, -0.2065, -0.0163, -0.4055, -0.1467],\n",
      "         [-0.4990,  0.2125, -0.1470, -0.0132, -0.4898, -0.1167],\n",
      "         [-0.4987,  0.2123, -0.1469, -0.0131, -0.4898, -0.1171],\n",
      "         [-0.4987,  0.2162, -0.1468, -0.0141, -0.4894, -0.1183],\n",
      "         [-0.4689,  0.1997, -0.1567, -0.0247, -0.4651, -0.1644],\n",
      "         [-0.4964,  0.2169, -0.1730, -0.0168, -0.4563, -0.1140]]],\n",
      "       grad_fn=<ViewBackward0>)\n",
      "context_vector shape: torch.Size([2, 6, 6])\n"
     ]
    }
   ],
   "source": [
    "batch_size , context_length , d_in = batch.shape\n",
    "d_out = 6\n",
    "\n",
    "mha = MultiHeadAttention(d_in, d_out, context_length, dropout=0.1, num_heads=2)\n",
    "context_vectors = mha(batch)\n",
    "\n",
    "print(context_vectors)\n",
    "print(\"context_vector shape:\", context_vectors.shape)"
   ]
  },
  {
   "cell_type": "markdown",
   "id": "a68f8950",
   "metadata": {},
   "source": [
    "### MULTI HEAD ATTENTION WITH WEIGHT SPLITS"
   ]
  },
  {
   "cell_type": "code",
   "execution_count": 30,
   "id": "83111c8f",
   "metadata": {},
   "outputs": [],
   "source": [
    "class MultiHeadAttention(nn.Module):\n",
    "\n",
    "    def __init__(self, d_in:int,d_out:int, num_of_heads:int,\n",
    "                 context_length:int,dropout:float,\n",
    "                 qkv_bias:bool = False):\n",
    "        \n",
    "        super().__init__()\n",
    "        assert (d_out % num_of_heads == 0),\\\n",
    "            \"d_out must be divisible by num_heads\"        \n",
    "        self.d_out = d_out\n",
    "        self.num_of_heads  = num_of_heads\n",
    "        self.head_dim = self.d_out // self.num_of_heads\n",
    "        self.w_query = nn.Linear(d_in,d_in, bias = qkv_bias)\n",
    "        self.w_key = nn.Linear(d_in,d_in,bias = qkv_bias)\n",
    "        self.w_value = nn.Linear(d_in,d_in,bias = qkv_bias)\n",
    "        self.proj = nn.Linear(d_out,d_out) # linear layer to combine head outputs\n",
    "        self.dropout = nn.Dropout(dropout)\n",
    "        self.register_buffer(\n",
    "            \"mask\",\n",
    "            torch.triu(torch.ones(context_length,context_length),\n",
    "                       diagonal=1)\n",
    "        )\n",
    "    \n",
    "    def forward(self, x):\n",
    "        b,num_of_token, d_in = x.shape\n",
    "        \n",
    "        # claculate query, keys value matrix\n",
    "        query = self.w_query(x)\n",
    "        keys = self.w_key(x)\n",
    "        value = self.w_value(x)\n",
    "\n",
    "        # transforming to shape (batch, num_of_token, d_in) ---> (batch, num_of_token, num_of_heads, head_dim)\n",
    "        query = query.view(b, num_of_token, self.num_of_heads, self.head_dim)\n",
    "        keys = keys.view(b, num_of_token, self.num_of_heads, self.head_dim)\n",
    "        value = value.view(b, num_of_token, self.num_of_heads, self.head_dim)\n",
    "\n",
    "        #shape Transform (batch, num_of_token, num_of_heads, head_dim) ---> (batch, num_of_heads,num_of_token, head_dim)\n",
    "        query = query.transpose(1,2)\n",
    "        keys = keys.transpose(1,2)\n",
    "        value = value.transpose(1,2)\n",
    "\n",
    "        #find attention scores\n",
    "        attention_score = query @ keys.transpose(2,3)\n",
    "\n",
    "        # create Mask\n",
    "        mask_bool = self.mask.bool()[:num_of_token,:num_of_token]\n",
    "\n",
    "        # apply mask\n",
    "        attention_score.masked_fill(mask_bool,-torch.inf)\n",
    "\n",
    "        #caluclate attention weight\n",
    "        attention_weight = torch.softmax(\n",
    "            attention_score / keys.shape[-1]**0.5,\n",
    "            dim = -1\n",
    "        )\n",
    "\n",
    "        #shape : (b,num_of_heads ,num_of_token,head_dim) ---> (b,num_of_token,num_of_heads,head_dim)\n",
    "        context_vector =  (attention_weight @ value).transpose(1,2)\n",
    "        \n",
    "        # combine all heads\n",
    "        context_vector = context_vector.contiguous().view(b,num_of_token,self.d_out)\n",
    "\n",
    "        #output projection\n",
    "        context_vector = self.proj(context_vector)\n",
    "\n",
    "        #return context vector after dropout\n",
    "        return self.dropout(context_vector)"
   ]
  },
  {
   "cell_type": "code",
   "execution_count": 27,
   "id": "d04d6932",
   "metadata": {},
   "outputs": [],
   "source": [
    "batch_size, context_length,d_in = batch.shape"
   ]
  },
  {
   "cell_type": "code",
   "execution_count": 31,
   "id": "2e81d601",
   "metadata": {},
   "outputs": [],
   "source": [
    "mha = MultiHeadAttention(d_in,d_out, num_of_heads=2,\n",
    "                         context_length= 6, \n",
    "                         dropout=0.1, qkv_bias=False)"
   ]
  },
  {
   "cell_type": "code",
   "execution_count": 32,
   "id": "aaa67e9d",
   "metadata": {},
   "outputs": [
    {
     "data": {
      "text/plain": [
       "tensor([[[ 0.0287,  0.0996,  0.5098, -0.4397, -0.1321,  0.0645],\n",
       "         [ 0.0300,  0.1010,  0.5131, -0.4423, -0.1324,  0.0652],\n",
       "         [ 0.0296,  0.1010,  0.5125, -0.4421, -0.1323,  0.0650],\n",
       "         [ 0.0304,  0.1011,  0.5135, -0.4432, -0.1323,  0.0666],\n",
       "         [ 0.0307,  0.1007,  0.5135, -0.4417, -0.1327,  0.0663],\n",
       "         [ 0.0310,  0.1013,  0.5146, -0.4438, -0.1325,  0.0669]],\n",
       "\n",
       "        [[ 0.0000,  0.0996,  0.5098, -0.4397, -0.1321,  0.0000],\n",
       "         [ 0.0300,  0.1010,  0.5131, -0.4423, -0.1324,  0.0000],\n",
       "         [ 0.0296,  0.1010,  0.5125, -0.4421, -0.1323,  0.0650],\n",
       "         [ 0.0304,  0.1011,  0.5135, -0.4432, -0.1323,  0.0666],\n",
       "         [ 0.0000,  0.1007,  0.5135, -0.4417, -0.1327,  0.0663],\n",
       "         [ 0.0310,  0.1013,  0.5146, -0.4438, -0.1325,  0.0669]]],\n",
       "       grad_fn=<MulBackward0>)"
      ]
     },
     "execution_count": 32,
     "metadata": {},
     "output_type": "execute_result"
    }
   ],
   "source": [
    "context_vector = mha(batch)\n",
    "context_vector"
   ]
  },
  {
   "cell_type": "code",
   "execution_count": 3,
   "id": "5f7d18b3",
   "metadata": {},
   "outputs": [],
   "source": [
    "import torch\n",
    "import torch.nn as nn"
   ]
  },
  {
   "cell_type": "code",
   "execution_count": 5,
   "id": "566654ec",
   "metadata": {},
   "outputs": [],
   "source": [
    "inputs = torch.tensor(\n",
    "    [[0.43, 0.15, 0.89, 0.34, 0.87, 0.66],  # your      (x^1)\n",
    "     [0.55, 0.87, 0.66, 0.22, 0.58, 0.33],  # journey   (x^2)\n",
    "     [0.57, 0.85, 0.64, 0.05, 0.80, 0.55],  # starts    (x^3)\n",
    "     [0.22, 0.58, 0.34, 0.45, 0.57, 0.34],  # with      (x^4)\n",
    "     [0.77, 0.25, 0.10, 0.32, 0.05, 0.13],  # one       (x^5)\n",
    "     [0.05, 0.81, 0.55, 0.78, 0.29, 0.15]]  # step      (x^6)\n",
    " )"
   ]
  },
  {
   "cell_type": "code",
   "execution_count": 6,
   "id": "203fa16e",
   "metadata": {},
   "outputs": [
    {
     "name": "stdout",
     "output_type": "stream",
     "text": [
      "torch.Size([2, 6, 6])\n"
     ]
    }
   ],
   "source": [
    "batch = torch.stack((inputs,inputs), dim = 0)\n",
    "print(batch.shape)"
   ]
  },
  {
   "cell_type": "code",
   "execution_count": 7,
   "id": "97d78a7a",
   "metadata": {},
   "outputs": [],
   "source": [
    "batch_size , context_length , d_in = batch.shape\n",
    "d_out = 6"
   ]
  },
  {
   "cell_type": "code",
   "execution_count": 25,
   "id": "cc1a54d1",
   "metadata": {},
   "outputs": [],
   "source": [
    "class MultiHeadAttention(nn.Module):\n",
    "    def __init__(self, d_in:int, d_out:int, num_of_heads:int,\n",
    "                 context_length:int,dropout:float,qkv_bias:bool=False):\n",
    "        super().__init__()\n",
    "        assert (d_out % num_of_heads == 0)\\\n",
    "            , \"d_out is not divisible by num_of_heads\"\n",
    "        self.d_out = d_out\n",
    "        self.num_of_heads = num_of_heads\n",
    "        self.context_length = context_length\n",
    "        self.head_dim = d_out // num_of_heads\n",
    "        self.W_Query = nn.Linear(d_in,d_out,bias=qkv_bias)\n",
    "        self.W_Key = nn.Linear(d_in,d_out,bias=qkv_bias)\n",
    "        self.W_Value = nn.Linear(d_in,d_out,bias=qkv_bias)\n",
    "        self.projLayer = nn.Linear(d_out,d_out)\n",
    "        self.dropout = nn.Dropout(dropout)\n",
    "        self.register_buffer(\n",
    "            \"mask\",\n",
    "            torch.triu(torch.ones(context_length,context_length),\n",
    "                       diagonal=1)\n",
    "        )\n",
    "    \n",
    "\n",
    "    def forward(self,x):\n",
    "        b,num_of_token,d_in = x.shape\n",
    "        Query = self.W_Query(x)\n",
    "        Key   = self.W_Key(x)\n",
    "        Value = self.W_Value(x)\n",
    "\n",
    "        # reshape: (b,Num_of_token,d_in) ---> (b,num_of_token,num_of_heads,head_dim)\n",
    "        Query = Query.view(b,num_of_token,self.num_of_heads,self.head_dim)\n",
    "        Key   = Key.view(b,num_of_token,self.num_of_heads,self.head_dim)\n",
    "        Value = Value.view(b,num_of_token,self.num_of_heads,self.head_dim)\n",
    "\n",
    "        #grouping by Heads ( Transpose with respect to 1 and 2 shape)\n",
    "        Query = Query.transpose(1,2)\n",
    "        Key   = Key.transpose(1,2)\n",
    "        Value = Value.transpose(1,2)\n",
    "\n",
    "        #calculate attention score and reshape (b,num_of_heads, num_of_token,,head_dim) ---> (b,num_of_token,num_of_heads,head_dim)\n",
    "        Atten_Score = Query @ Key.transpose(2,3)\n",
    "\n",
    "        # create Mask \n",
    "        mask_bool = self.mask.bool()[:num_of_token,:num_of_token]\n",
    "\n",
    "        # apply mask\n",
    "        Atten_Score.masked_fill(mask_bool,-torch.inf)\n",
    "\n",
    "        #calculate attention weight (softmax and devide by sqrt of head_dim)\n",
    "        Atten_Weight = torch.softmax(\n",
    "            Atten_Score/ self.head_dim ** 0.5 ,\n",
    "            dim = -1\n",
    "        )\n",
    "\n",
    "        context_vector = (Atten_Weight @ Value).transpose(1,2)\n",
    "\n",
    "        context_vector = context_vector.contiguous().view(b, num_of_token,self.d_out)\n",
    "\n",
    "        context_vector = self.projLayer(context_vector)\n",
    "\n",
    "        return self.dropout(context_vector)"
   ]
  },
  {
   "cell_type": "code",
   "execution_count": 26,
   "id": "f52b5a5b",
   "metadata": {},
   "outputs": [
    {
     "data": {
      "text/plain": [
       "tensor([[[ 1.2440e-03, -4.3129e-02,  2.7337e-01,  2.1775e-01,  2.2385e-01,\n",
       "          -5.3225e-01],\n",
       "         [ 1.3242e-04, -4.3032e-02,  2.7282e-01,  2.1738e-01,  2.2316e-01,\n",
       "          -5.3243e-01],\n",
       "         [-7.7254e-05, -4.3099e-02,  2.7289e-01,  2.1734e-01,  2.2295e-01,\n",
       "          -5.3218e-01],\n",
       "         [-4.8952e-04, -4.3376e-02,  2.7316e-01,  2.1807e-01,  0.0000e+00,\n",
       "          -5.3218e-01],\n",
       "         [ 1.9017e-03, -4.2268e-02,  2.7227e-01,  2.1845e-01,  2.2485e-01,\n",
       "          -0.0000e+00],\n",
       "         [-4.1028e-04, -4.3252e-02,  2.7321e-01,  2.1785e-01,  2.2255e-01,\n",
       "          -5.3176e-01]],\n",
       "\n",
       "        [[ 1.2440e-03, -0.0000e+00,  2.7337e-01,  0.0000e+00,  2.2385e-01,\n",
       "          -5.3225e-01],\n",
       "         [ 1.3242e-04, -4.3032e-02,  2.7282e-01,  2.1738e-01,  2.2316e-01,\n",
       "          -5.3243e-01],\n",
       "         [-7.7254e-05, -4.3099e-02,  2.7289e-01,  2.1734e-01,  2.2295e-01,\n",
       "          -5.3218e-01],\n",
       "         [-4.8952e-04, -4.3376e-02,  2.7316e-01,  2.1807e-01,  2.2285e-01,\n",
       "          -5.3218e-01],\n",
       "         [ 1.9017e-03, -4.2268e-02,  2.7227e-01,  2.1845e-01,  2.2485e-01,\n",
       "          -5.3496e-01],\n",
       "         [-4.1028e-04, -4.3252e-02,  0.0000e+00,  2.1785e-01,  0.0000e+00,\n",
       "          -5.3176e-01]]], grad_fn=<MulBackward0>)"
      ]
     },
     "execution_count": 26,
     "metadata": {},
     "output_type": "execute_result"
    }
   ],
   "source": [
    "mha = MultiHeadAttention(d_in = d_in, d_out = d_out, num_of_heads=2,context_length=context_length,\n",
    "                         dropout=0.1,qkv_bias=False)\n",
    "\n",
    "mha(batch)"
   ]
  }
 ],
 "metadata": {
  "kernelspec": {
   "display_name": "base",
   "language": "python",
   "name": "python3"
  },
  "language_info": {
   "codemirror_mode": {
    "name": "ipython",
    "version": 3
   },
   "file_extension": ".py",
   "mimetype": "text/x-python",
   "name": "python",
   "nbconvert_exporter": "python",
   "pygments_lexer": "ipython3",
   "version": "3.13.5"
  }
 },
 "nbformat": 4,
 "nbformat_minor": 5
}
