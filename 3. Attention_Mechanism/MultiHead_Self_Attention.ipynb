{
 "cells": [
  {
   "cell_type": "code",
   "execution_count": 2,
   "id": "8ee44fec",
   "metadata": {},
   "outputs": [],
   "source": [
    "import torch.nn as nn"
   ]
  },
  {
   "cell_type": "code",
   "execution_count": 3,
   "id": "c85de10c",
   "metadata": {},
   "outputs": [],
   "source": [
    "class CausalAttention(nn.Module):\n",
    "\n",
    "    def __init__(self, d_in, d_out,context_length,dropout, qkv_bias = False):\n",
    "        super().__init__()\n",
    "        self.d_out = d_out\n",
    "        self.W_query = nn.Linear(d_in, d_out,bias=qkv_bias)\n",
    "        self.W_key   = nn.Linear(d_in, d_out,bias=qkv_bias)\n",
    "        self.W_value = nn.Linear(d_in, d_out,bias=qkv_bias)\n",
    "        self.dropout = nn.Dropout(dropout)\n",
    "        self.register_buffer('mask', torch.triu(torch.ones(context_length,context_length),diagonal=1))\n",
    "    \n",
    "\n",
    "    def forward(self, x):\n",
    "        b, num_tokens, d_in = x.shape\n",
    "        keys = self.W_key(x)\n",
    "        queries = self.W_query(x)\n",
    "        values = self.W_value(x)\n",
    "\n",
    "        attn_scores = queries @ keys.transpose(1,2)\n",
    "        attn_scores.masked_fill(\n",
    "            self.mask.bool()[:num_tokens,:num_tokens],-torch.inf)\n",
    "        \n",
    "        attn_weights = torch.softmax(\n",
    "            attn_scores / keys.shape[-1] ** 0.5 , dim = -1\n",
    "        )\n",
    "\n",
    "        attn_weights = self.dropout(attn_weights)\n",
    "        context_vector = attn_weights @ values\n",
    "\n",
    "        return context_vector"
   ]
  },
  {
   "cell_type": "code",
   "execution_count": 4,
   "id": "953f6592",
   "metadata": {},
   "outputs": [],
   "source": [
    "class MultiHeadAttentionWrapper(nn.Module):\n",
    "\n",
    "    def __init__(self,d_in, d_out, context_length, dropout, num_heads, qkv_bias = False):\n",
    "        super().__init__()\n",
    "        self.heads = nn.ModuleList(\n",
    "            [CausalAttention(d_in=d_in,d_out=d_out,context_length=context_length,dropout=dropout,qkv_bias=qkv_bias)\n",
    "             for _ in range(num_heads)]\n",
    "        )\n",
    "\n",
    "\n",
    "    def forward(self, x):\n",
    "        return torch.cat([head(x) for head in self.heads], dim =-1)"
   ]
  },
  {
   "cell_type": "code",
   "execution_count": 5,
   "id": "f215a2ae",
   "metadata": {},
   "outputs": [],
   "source": [
    "import torch\n",
    "\n",
    "inputs = torch.tensor(\n",
    "    [[0.43, 0.15, 0.89],  # your      (x^1)\n",
    "     [0.55, 0.87, 0.66],  # journey   (x^2)\n",
    "     [0.57, 0.85, 0.64],  # starts    (x^3)\n",
    "     [0.22, 0.58, 0.34],  # with      (x^4)\n",
    "     [0.77, 0.25, 0.10],  # one       (x^5)\n",
    "     [0.05, 0.81, 0.55]]  # step      (x^6)\n",
    " )"
   ]
  },
  {
   "cell_type": "code",
   "execution_count": 6,
   "id": "633bc045",
   "metadata": {},
   "outputs": [
    {
     "name": "stdout",
     "output_type": "stream",
     "text": [
      "torch.Size([2, 6, 3])\n"
     ]
    }
   ],
   "source": [
    "batch = torch.stack((inputs,inputs), dim = 0)\n",
    "print(batch.shape)"
   ]
  },
  {
   "cell_type": "code",
   "execution_count": 7,
   "id": "a3dda145",
   "metadata": {},
   "outputs": [
    {
     "name": "stdout",
     "output_type": "stream",
     "text": [
      "context vector shape: torch.Size([2, 6, 4])\n",
      "context vector: tensor([[[-0.5110, -0.0883,  0.6368,  0.4393],\n",
      "         [-0.5787, -0.1032,  0.5558,  0.3643],\n",
      "         [-0.6665, -0.1351,  0.4901,  0.3319],\n",
      "         [-0.6633, -0.1346,  0.6355,  0.4348],\n",
      "         [-0.6649, -0.1334,  0.4611,  0.3365],\n",
      "         [-0.6635, -0.1353,  0.6357,  0.4376]],\n",
      "\n",
      "        [[-0.5694, -0.0991,  0.3843,  0.2654],\n",
      "         [-0.4338, -0.0615,  0.4903,  0.3317],\n",
      "         [-0.1747, -0.0626,  0.6366,  0.4391],\n",
      "         [-0.5744, -0.1023,  0.6355,  0.4348],\n",
      "         [-0.6649, -0.1334,  0.6356,  0.4316],\n",
      "         [-0.4856, -0.0715,  0.3453,  0.2246]]], grad_fn=<CatBackward0>)\n"
     ]
    }
   ],
   "source": [
    "torch.manual_seed(123)\n",
    "context_length = batch.shape[1]\n",
    "d_in,d_out = 3,2\n",
    "\n",
    "mha = MultiHeadAttentionWrapper(d_in, d_out, context_length, dropout=0.2, num_heads=2)\n",
    "\n",
    "context_vector = mha(batch)\n",
    "\n",
    "print(\"context vector shape:\", context_vector.shape)\n",
    "print(\"context vector:\", context_vector)"
   ]
  },
  {
   "cell_type": "code",
   "execution_count": 12,
   "id": "d1cd5e54",
   "metadata": {},
   "outputs": [],
   "source": [
    "class MultiHeadAttention(nn.Module):\n",
    "    def __init__(self, d_in, d_out, context_length, dropout, num_heads, qkv_bias = False):\n",
    "        super().__init__()\n",
    "        assert (d_out % num_heads == 0),\\\n",
    "            \"d_out must be divisible by num_heads\"\n",
    "        \n",
    "        self.d_out = d_out\n",
    "        self.num_heads = num_heads\n",
    "        self.head_dim = d_out // num_heads  # reduce the projection dim to match desired output dim\n",
    "\n",
    "        self.W_query = nn.Linear(d_in, d_out,bias=qkv_bias)\n",
    "        self.W_key   = nn.Linear(d_in, d_out,bias=qkv_bias)\n",
    "        self.W_value = nn.Linear(d_in, d_out,bias=qkv_bias)\n",
    "        self.out_proj = nn.Linear(d_out, d_out) # Linear layer to combine head outputs\n",
    "        self.dropout = nn.Dropout(dropout)\n",
    "        self.register_buffer(\n",
    "            'mask', \n",
    "            torch.triu(torch.ones(context_length,context_length),\n",
    "                       diagonal=1)\n",
    "        )\n",
    "\n",
    "    \n",
    "    def forward(self, x):\n",
    "        b, num_tokens, d_in = x.shape\n",
    "\n",
    "        keys = self.W_key(x)\n",
    "        queries = self.W_query(x)\n",
    "        values = self.W_value(x)\n",
    "\n",
    "        # we implicitly split the matrix by adding a num_heads dim\n",
    "        # unroll last dim: (b,Num_tokens, d_out) -> (b, num_token, num_heads, head_dim)\n",
    "        keys = keys.view(b, num_tokens, self.num_heads, self.head_dim)\n",
    "        queries = queries.view(b, num_tokens, self.num_heads, self.head_dim)\n",
    "        values = values.view(b, num_tokens, self.num_heads, self.head_dim)\n",
    "\n",
    "        # group matricies by num_head by transpose\n",
    "        # (b, num_token, num_heads, head_dim) -> (b, num_heads, num_token,head_dim)\n",
    "        keys = keys.transpose(1,2)\n",
    "        queries = queries.transpose(1,2)\n",
    "        values = values.transpose(1,2)\n",
    "\n",
    "        \n",
    "        attn_scores = queries @ keys.transpose(2,3)\n",
    "\n",
    "\n",
    "        mask_bool = self.mask.bool()[:num_tokens,:num_tokens]\n",
    "\n",
    "        attn_scores.masked_fill(mask_bool, -torch.inf)\n",
    "        \n",
    "        #apply softmax\n",
    "        attn_weights = torch.softmax(\n",
    "            attn_scores / keys.shape[-1] ** 0.5 , dim = -1\n",
    "        )\n",
    "\n",
    "        # dropout layer\n",
    "        attn_weights = self.dropout(attn_weights)\n",
    "\n",
    "        # transpose attn_weights\n",
    "        context_vec = (attn_weights @ values).transpose(1,2)\n",
    "\n",
    "        #combine result obtain from multiple heads self.d_out = self.num_heads * self.head_dim\n",
    "        context_vec = context_vec.contiguous().view(b, num_tokens, self.d_out)\n",
    "        context_vec = self.out_proj(context_vec)\n",
    "\n",
    "\n",
    "        return context_vec        "
   ]
  },
  {
   "cell_type": "code",
   "execution_count": 13,
   "id": "5f4b3c58",
   "metadata": {},
   "outputs": [],
   "source": [
    "import torch\n",
    "\n",
    "inputs = torch.tensor(\n",
    "    [[0.43, 0.15, 0.89, 0.34, 0.87, 0.66],  # your      (x^1)\n",
    "     [0.55, 0.87, 0.66, 0.22, 0.58, 0.33],  # journey   (x^2)\n",
    "     [0.57, 0.85, 0.64, 0.05, 0.80, 0.55],  # starts    (x^3)\n",
    "     [0.22, 0.58, 0.34, 0.45, 0.57, 0.34],  # with      (x^4)\n",
    "     [0.77, 0.25, 0.10, 0.32, 0.05, 0.13],  # one       (x^5)\n",
    "     [0.05, 0.81, 0.55, 0.78, 0.29, 0.15]]  # step      (x^6)\n",
    " )"
   ]
  },
  {
   "cell_type": "code",
   "execution_count": 14,
   "id": "b8986305",
   "metadata": {},
   "outputs": [
    {
     "name": "stdout",
     "output_type": "stream",
     "text": [
      "torch.Size([2, 6, 6])\n"
     ]
    }
   ],
   "source": [
    "batch = torch.stack((inputs,inputs), dim = 0)\n",
    "print(batch.shape)"
   ]
  },
  {
   "cell_type": "code",
   "execution_count": 15,
   "id": "0feec715",
   "metadata": {},
   "outputs": [
    {
     "name": "stdout",
     "output_type": "stream",
     "text": [
      "tensor([[[ 0.3980, -0.1468,  0.0311, -0.2454, -0.4149,  0.2771],\n",
      "         [ 0.3973, -0.1466,  0.0313, -0.2445, -0.4155,  0.2776],\n",
      "         [ 0.3976, -0.1468,  0.0320, -0.2450, -0.4162,  0.2772],\n",
      "         [ 0.3948, -0.1291,  0.0339, -0.2582, -0.3931,  0.2916],\n",
      "         [ 0.3659, -0.1050,  0.0071, -0.2283, -0.3692,  0.3204],\n",
      "         [ 0.3884, -0.1324,  0.0384, -0.2502, -0.4000,  0.2874]],\n",
      "\n",
      "        [[ 0.3477, -0.1118, -0.0356, -0.1733, -0.3515,  0.3293],\n",
      "         [ 0.3894, -0.1286,  0.0118, -0.2411, -0.3704,  0.3039],\n",
      "         [ 0.3945, -0.1281,  0.0122, -0.2509, -0.3808,  0.2917],\n",
      "         [ 0.3962, -0.1452,  0.0288, -0.2430, -0.4126,  0.2798],\n",
      "         [ 0.3949, -0.1289,  0.0330, -0.2582, -0.3919,  0.2917],\n",
      "         [ 0.3750, -0.1207,  0.0155, -0.2324, -0.3839,  0.3038]]],\n",
      "       grad_fn=<ViewBackward0>)\n",
      "context_vector shape: torch.Size([2, 6, 6])\n"
     ]
    }
   ],
   "source": [
    "batch_size , context_length , d_in = batch.shape\n",
    "d_out = 6\n",
    "\n",
    "mha = MultiHeadAttention(d_in, d_out, context_length, dropout=0.1, num_heads=2)\n",
    "context_vectors = mha(batch)\n",
    "\n",
    "print(context_vectors)\n",
    "print(\"context_vector shape:\", context_vectors.shape)"
   ]
  }
 ],
 "metadata": {
  "kernelspec": {
   "display_name": "base",
   "language": "python",
   "name": "python3"
  },
  "language_info": {
   "codemirror_mode": {
    "name": "ipython",
    "version": 3
   },
   "file_extension": ".py",
   "mimetype": "text/x-python",
   "name": "python",
   "nbconvert_exporter": "python",
   "pygments_lexer": "ipython3",
   "version": "3.12.7"
  }
 },
 "nbformat": 4,
 "nbformat_minor": 5
}
