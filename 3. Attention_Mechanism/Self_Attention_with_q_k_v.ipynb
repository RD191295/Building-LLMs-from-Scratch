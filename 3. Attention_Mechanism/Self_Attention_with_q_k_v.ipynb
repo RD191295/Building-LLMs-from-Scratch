{
 "cells": [
  {
   "cell_type": "markdown",
   "id": "f6d2ac56",
   "metadata": {},
   "source": [
    "### IMPLEMENTING SELF ATTENTION WITH TRAINABLE WEIGHTS"
   ]
  },
  {
   "cell_type": "code",
   "execution_count": 3,
   "id": "f242482a",
   "metadata": {},
   "outputs": [],
   "source": [
    "import torch\n",
    "\n",
    "inputs = torch.tensor(\n",
    "    [[0.43, 0.15, 0.89],  # your      (x^1)\n",
    "     [0.55, 0.87, 0.66],  # journey   (x^2)\n",
    "     [0.57, 0.85, 0.64],  # starts    (x^3)\n",
    "     [0.22, 0.58, 0.34],  # with      (x^4)\n",
    "     [0.77, 0.25, 0.10],  # one       (x^5)\n",
    "     [0.05, 0.81, 0.55]]  # step      (x^6)\n",
    " )"
   ]
  },
  {
   "cell_type": "code",
   "execution_count": 4,
   "id": "372f50ff",
   "metadata": {},
   "outputs": [],
   "source": [
    "x_2 =  inputs[1]\n",
    "\n",
    "d_in = inputs.shape[1]\n",
    "d_out = 2"
   ]
  },
  {
   "cell_type": "markdown",
   "id": "9db3dfb2",
   "metadata": {},
   "source": [
    "<div class=\"alert alert-block alert-success\">\n",
    "Next we initialize the three weight matrices Wq, Wk, Wv\n",
    "</div>"
   ]
  },
  {
   "cell_type": "code",
   "execution_count": 5,
   "id": "c6372ab7",
   "metadata": {},
   "outputs": [],
   "source": [
    "import torch\n",
    "\n",
    "torch.manual_seed(123)\n",
    "\n",
    "W_query = torch.nn.Parameter(torch.rand(d_in, d_out), requires_grad= False)\n",
    "W_key = torch.nn.Parameter(torch.rand(d_in, d_out), requires_grad= False)\n",
    "W_value = torch.nn.Parameter(torch.rand(d_in, d_out), requires_grad= False)"
   ]
  },
  {
   "cell_type": "code",
   "execution_count": 6,
   "id": "9aead8ce",
   "metadata": {},
   "outputs": [
    {
     "name": "stdout",
     "output_type": "stream",
     "text": [
      "Parameter containing:\n",
      "tensor([[0.2961, 0.5166],\n",
      "        [0.2517, 0.6886],\n",
      "        [0.0740, 0.8665]])\n"
     ]
    }
   ],
   "source": [
    "print(W_query)"
   ]
  },
  {
   "cell_type": "code",
   "execution_count": 7,
   "id": "88796cf8",
   "metadata": {},
   "outputs": [
    {
     "name": "stdout",
     "output_type": "stream",
     "text": [
      "Parameter containing:\n",
      "tensor([[0.1366, 0.1025],\n",
      "        [0.1841, 0.7264],\n",
      "        [0.3153, 0.6871]])\n"
     ]
    }
   ],
   "source": [
    "print(W_key)"
   ]
  },
  {
   "cell_type": "code",
   "execution_count": 8,
   "id": "47c8bb54",
   "metadata": {},
   "outputs": [
    {
     "name": "stdout",
     "output_type": "stream",
     "text": [
      "Parameter containing:\n",
      "tensor([[0.0756, 0.1966],\n",
      "        [0.3164, 0.4017],\n",
      "        [0.1186, 0.8274]])\n"
     ]
    }
   ],
   "source": [
    "print(W_value)"
   ]
  },
  {
   "cell_type": "code",
   "execution_count": 9,
   "id": "882f0fc1",
   "metadata": {},
   "outputs": [],
   "source": [
    "queries = inputs @ W_query\n",
    "key = inputs @ W_key\n",
    "value = inputs @ W_value"
   ]
  },
  {
   "cell_type": "code",
   "execution_count": 10,
   "id": "7d00cb01",
   "metadata": {},
   "outputs": [
    {
     "data": {
      "text/plain": [
       "tensor([[0.2309, 1.0966],\n",
       "        [0.4306, 1.4551],\n",
       "        [0.4300, 1.4343],\n",
       "        [0.2363, 0.8076],\n",
       "        [0.2983, 0.6565],\n",
       "        [0.2593, 1.0601]])"
      ]
     },
     "execution_count": 10,
     "metadata": {},
     "output_type": "execute_result"
    }
   ],
   "source": [
    "queries"
   ]
  },
  {
   "cell_type": "code",
   "execution_count": 11,
   "id": "047c83c2",
   "metadata": {},
   "outputs": [
    {
     "data": {
      "text/plain": [
       "tensor([[0.3669, 0.7646],\n",
       "        [0.4433, 1.1419],\n",
       "        [0.4361, 1.1156],\n",
       "        [0.2440, 0.6775],\n",
       "        [0.1827, 0.3292],\n",
       "        [0.3293, 0.9715]])"
      ]
     },
     "execution_count": 11,
     "metadata": {},
     "output_type": "execute_result"
    }
   ],
   "source": [
    "key"
   ]
  },
  {
   "cell_type": "code",
   "execution_count": 12,
   "id": "d03808d4",
   "metadata": {},
   "outputs": [
    {
     "data": {
      "text/plain": [
       "tensor([[0.1855, 0.8812],\n",
       "        [0.3951, 1.0037],\n",
       "        [0.3879, 0.9831],\n",
       "        [0.2405, 0.5576],\n",
       "        [0.1492, 0.3346],\n",
       "        [0.3253, 0.7903]])"
      ]
     },
     "execution_count": 12,
     "metadata": {},
     "output_type": "execute_result"
    }
   ],
   "source": [
    "value"
   ]
  },
  {
   "cell_type": "markdown",
   "id": "c5e81a8e",
   "metadata": {},
   "source": [
    "<div class=\"alert alert-block alert-success\">\n",
    "First Let's Compute Attention score w22\n",
    "</div>"
   ]
  },
  {
   "cell_type": "code",
   "execution_count": 13,
   "id": "444ea35d",
   "metadata": {},
   "outputs": [
    {
     "name": "stdout",
     "output_type": "stream",
     "text": [
      "tensor(1.8524)\n"
     ]
    }
   ],
   "source": [
    "Keys_2 = key[1]\n",
    "attn_score_22 = queries[1].dot(Keys_2)\n",
    "print(attn_score_22)"
   ]
  },
  {
   "cell_type": "markdown",
   "id": "5baa93d0",
   "metadata": {},
   "source": [
    "<div class=\"alert alert-block alert-success\">\n",
    "Again, we can generalise this compution to all attention scores via matrix multiplication\n",
    "</div>"
   ]
  },
  {
   "cell_type": "code",
   "execution_count": 14,
   "id": "12549480",
   "metadata": {},
   "outputs": [
    {
     "name": "stdout",
     "output_type": "stream",
     "text": [
      "tensor([1.2544, 1.8284, 1.7877, 1.0767, 0.5508, 1.5350])\n"
     ]
    }
   ],
   "source": [
    "attn_score_2 = queries[2] @ key.T\n",
    "print(attn_score_2)"
   ]
  },
  {
   "cell_type": "code",
   "execution_count": 15,
   "id": "06c41c9d",
   "metadata": {},
   "outputs": [
    {
     "name": "stdout",
     "output_type": "stream",
     "text": [
      "tensor([[0.9231, 1.3545, 1.3241, 0.7993, 0.4032, 1.1413],\n",
      "        [1.2705, 1.8524, 1.8111, 1.0909, 0.5577, 1.5553],\n",
      "        [1.2544, 1.8284, 1.7877, 1.0767, 0.5508, 1.5350],\n",
      "        [0.7042, 1.0269, 1.0040, 0.6048, 0.3091, 0.8624],\n",
      "        [0.6114, 0.8819, 0.8626, 0.5176, 0.2707, 0.7360],\n",
      "        [0.9057, 1.3255, 1.2958, 0.7815, 0.3964, 1.1153]])\n"
     ]
    }
   ],
   "source": [
    "attn_score = queries @ key.T\n",
    "print(attn_score)"
   ]
  },
  {
   "cell_type": "code",
   "execution_count": 16,
   "id": "c9772c45",
   "metadata": {},
   "outputs": [
    {
     "name": "stdout",
     "output_type": "stream",
     "text": [
      "tensor([0.1500, 0.2250, 0.2187, 0.1323, 0.0912, 0.1829])\n",
      "2\n"
     ]
    }
   ],
   "source": [
    "d_k = key.shape[-1]\n",
    "attn_weight_2 = torch.softmax(attn_score_2/ d_k ** 0.5, dim = -1)\n",
    "print(attn_weight_2)\n",
    "print(d_k)"
   ]
  },
  {
   "cell_type": "markdown",
   "id": "84f0a8d4",
   "metadata": {},
   "source": [
    "### WHY to Devide by SQRT(Dimension)"
   ]
  },
  {
   "cell_type": "code",
   "execution_count": 17,
   "id": "8cd62552",
   "metadata": {},
   "outputs": [
    {
     "name": "stdout",
     "output_type": "stream",
     "text": [
      "Softmax without scaling: tensor([0.1925, 0.1426, 0.2351, 0.1426, 0.2872])\n",
      "Softmax after scalling (tensor * 8): tensor([0.0326, 0.0030, 0.1615, 0.0030, 0.8000])\n"
     ]
    }
   ],
   "source": [
    "import torch \n",
    "\n",
    "# define tensor\n",
    "\n",
    "tensor = torch.tensor([0.1, -0.2, 0.3, -0.2, 0.5])\n",
    "\n",
    "# apply softmax without scaling\n",
    "softmax_result = torch.softmax(tensor , dim = -1)\n",
    "print(\"Softmax without scaling:\", softmax_result)\n",
    "\n",
    "\n",
    "# multiply the tensor by 8 and then apply softmax\n",
    "scaled_tensor = tensor * 8 \n",
    "softmax_scaled_result = torch.softmax(scaled_tensor, dim = -1)\n",
    "print(\"Softmax after scalling (tensor * 8):\", softmax_scaled_result)"
   ]
  },
  {
   "cell_type": "code",
   "execution_count": 18,
   "id": "3c65e2fd",
   "metadata": {},
   "outputs": [
    {
     "name": "stdout",
     "output_type": "stream",
     "text": [
      "Variance before scaling (dim=5): 4.943243981009453\n",
      "Variance after scaling (dim=5): 0.9886487962018904\n",
      "Variance before scaling (dim=20): 20.78442941345748\n",
      "Variance after scaling (dim=20): 1.039221470672874\n",
      "Variance before scaling (dim=100): 95.71363018840235\n",
      "Variance after scaling (dim=100): 0.9571363018840234\n"
     ]
    }
   ],
   "source": [
    "import numpy as np\n",
    "\n",
    "# function to compute variance before and after scaling\n",
    "def compute_variance(dim, num_traials = 1000):\n",
    "    dot_products = []\n",
    "    scaled_dot_products = []\n",
    "\n",
    "    # Generate multiple random vectors and compute dot products\n",
    "    for _ in range(num_traials):\n",
    "        q = np.random.randn(dim)\n",
    "        k = np.random.randn(dim)\n",
    "\n",
    "        # compute the dot product\n",
    "        dot_product = np.dot(q,k)\n",
    "        dot_products.append(dot_product)\n",
    "\n",
    "        # scaled the dot product by sqrt(dim)\n",
    "        scaled_dot_product = dot_product / np.sqrt(dim)\n",
    "        scaled_dot_products.append(scaled_dot_product)\n",
    "\n",
    "    # calculate the variance of the dot products\n",
    "    variance_before_scaling = np.var(dot_products)\n",
    "    variance_after_scaling = np.var(scaled_dot_products)\n",
    "\n",
    "    return variance_before_scaling, variance_after_scaling\n",
    "\n",
    "\n",
    "\n",
    "# for dimension 5\n",
    "variance_bfore_5 , variance_after_5 = compute_variance(5)\n",
    "print(f\"Variance before scaling (dim=5): {variance_bfore_5}\")\n",
    "print(f\"Variance after scaling (dim=5): {variance_after_5}\")\n",
    "\n",
    "\n",
    "\n",
    "# for dimension 20\n",
    "variance_bfore_20 , variance_after_20 = compute_variance(20)\n",
    "print(f\"Variance before scaling (dim=20): {variance_bfore_20}\")\n",
    "print(f\"Variance after scaling (dim=20): {variance_after_20}\")\n",
    "\n",
    "# for dimension 100\n",
    "variance_bfore_100 , variance_after_100 = compute_variance(100)\n",
    "print(f\"Variance before scaling (dim=100): {variance_bfore_100}\")\n",
    "print(f\"Variance after scaling (dim=100): {variance_after_100}\")"
   ]
  },
  {
   "cell_type": "markdown",
   "id": "b9f45834",
   "metadata": {},
   "source": [
    "<div class=\"alert alert-block alert-success\">\n",
    "We now compute the context vector as a weighted sum over the value vectors\n",
    "</div>"
   ]
  },
  {
   "cell_type": "code",
   "execution_count": 26,
   "id": "9444de6c",
   "metadata": {},
   "outputs": [
    {
     "name": "stdout",
     "output_type": "stream",
     "text": [
      "tensor([0.3065, 0.8218])\n"
     ]
    }
   ],
   "source": [
    "context_vector_2 = attn_weight_2 @ value\n",
    "print(context_vector_2)"
   ]
  },
  {
   "cell_type": "markdown",
   "id": "66837ccf",
   "metadata": {},
   "source": [
    "## Implementing a compact self attention class"
   ]
  },
  {
   "cell_type": "code",
   "execution_count": 30,
   "id": "e5bbc944",
   "metadata": {},
   "outputs": [],
   "source": [
    "import torch.nn as nn\n",
    "\n",
    "class SelfAttention_V1(nn.Module):\n",
    "\n",
    "    def __init__(self, d_in, d_out):\n",
    "        super().__init__()\n",
    "        self.W_query = nn.Parameter(torch.rand(d_in, d_out))\n",
    "        self.W_key   = nn.Parameter(torch.rand(d_in, d_out))\n",
    "        self.W_value = nn.Parameter(torch.rand(d_in, d_out))\n",
    "    \n",
    "\n",
    "    def forward(self, x):\n",
    "        keys = x @ self.W_key\n",
    "        queries = x @ self.W_query\n",
    "        values = x @ self.W_value\n",
    "\n",
    "        attn_scores = queries @ keys.T\n",
    "        attn_weights = torch.softmax(\n",
    "            attn_scores / keys.shape[-1] ** 0.5 , dim = -1\n",
    "        )\n",
    "\n",
    "        context_vector = attn_weights @ values\n",
    "        return context_vector"
   ]
  },
  {
   "cell_type": "code",
   "execution_count": 31,
   "id": "445b4ded",
   "metadata": {},
   "outputs": [
    {
     "name": "stdout",
     "output_type": "stream",
     "text": [
      "tensor([[0.3003, 0.8070],\n",
      "        [0.3068, 0.8225],\n",
      "        [0.3065, 0.8218],\n",
      "        [0.2956, 0.7960],\n",
      "        [0.2934, 0.7909],\n",
      "        [0.2998, 0.8060]], grad_fn=<MmBackward0>)\n"
     ]
    }
   ],
   "source": [
    "torch.manual_seed(123)\n",
    "sa_v1 = SelfAttention_V1(d_in, d_out)\n",
    "print(sa_v1(inputs))"
   ]
  },
  {
   "cell_type": "code",
   "execution_count": 37,
   "id": "f1bef20b",
   "metadata": {},
   "outputs": [],
   "source": [
    "import torch.nn as nn\n",
    "\n",
    "class SelfAttention_V2(nn.Module):\n",
    "\n",
    "    def __init__(self, d_in, d_out, qkv_bias = False):\n",
    "        super().__init__()\n",
    "        self.W_query = nn.Linear(d_in, d_out,bias=qkv_bias)\n",
    "        self.W_key   = nn.Linear(d_in, d_out,bias=qkv_bias)\n",
    "        self.W_value = nn.Linear(d_in, d_out,bias=qkv_bias)\n",
    "    \n",
    "\n",
    "    def forward(self, x):\n",
    "        keys = self.W_key(x)\n",
    "        queries = self.W_query(x)\n",
    "        values = self.W_value(x)\n",
    "\n",
    "        attn_scores = queries @ keys.T\n",
    "        attn_weights = torch.softmax(\n",
    "            attn_scores / keys.shape[-1] ** 0.5 , dim = -1\n",
    "        )\n",
    "\n",
    "        context_vector = attn_weights @ values\n",
    "        return context_vector"
   ]
  },
  {
   "cell_type": "code",
   "execution_count": 41,
   "id": "8dbe1014",
   "metadata": {},
   "outputs": [
    {
     "name": "stdout",
     "output_type": "stream",
     "text": [
      "tensor([[-0.0744,  0.0709],\n",
      "        [-0.0753,  0.0699],\n",
      "        [-0.0753,  0.0698],\n",
      "        [-0.0765,  0.0681],\n",
      "        [-0.0768,  0.0675],\n",
      "        [-0.0759,  0.0689]], grad_fn=<MmBackward0>)\n"
     ]
    }
   ],
   "source": [
    "torch.manual_seed(789)\n",
    "sa_v2 = SelfAttention_V2(d_in, d_out)\n",
    "print(sa_v2(inputs))"
   ]
  }
 ],
 "metadata": {
  "kernelspec": {
   "display_name": "base",
   "language": "python",
   "name": "python3"
  },
  "language_info": {
   "codemirror_mode": {
    "name": "ipython",
    "version": 3
   },
   "file_extension": ".py",
   "mimetype": "text/x-python",
   "name": "python",
   "nbconvert_exporter": "python",
   "pygments_lexer": "ipython3",
   "version": "3.12.7"
  }
 },
 "nbformat": 4,
 "nbformat_minor": 5
}
