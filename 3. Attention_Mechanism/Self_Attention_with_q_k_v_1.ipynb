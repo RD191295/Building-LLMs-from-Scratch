{
 "cells": [
  {
   "cell_type": "markdown",
   "id": "5ea7dcb9",
   "metadata": {},
   "source": [
    "### IMPLEMENTING SELF ATTENTION WITH TRAINABLE WEIGHTS"
   ]
  },
  {
   "cell_type": "code",
   "execution_count": 1,
   "id": "286ef0b0",
   "metadata": {},
   "outputs": [],
   "source": [
    "import torch\n",
    "\n",
    "inputs = torch.tensor(\n",
    "    [[0.43, 0.15, 0.89],  # your      (x^1)\n",
    "     [0.55, 0.87, 0.66],  # journey   (x^2)\n",
    "     [0.57, 0.85, 0.64],  # starts    (x^3)\n",
    "     [0.22, 0.58, 0.34],  # with      (x^4)\n",
    "     [0.77, 0.25, 0.10],  # one       (x^5)\n",
    "     [0.05, 0.81, 0.55]]  # step      (x^6)\n",
    " )"
   ]
  },
  {
   "cell_type": "markdown",
   "id": "a6fb263a",
   "metadata": {},
   "source": [
    "### Initalize Wk,Wq,WV matrices"
   ]
  },
  {
   "cell_type": "code",
   "execution_count": 2,
   "id": "71145295",
   "metadata": {},
   "outputs": [],
   "source": [
    "d_in = 3\n",
    "d_out = 2"
   ]
  },
  {
   "cell_type": "code",
   "execution_count": 3,
   "id": "5c3d2bc2",
   "metadata": {},
   "outputs": [],
   "source": [
    "torch.manual_seed(123)\n",
    "w_q = torch.nn.Parameter(torch.rand(d_in, d_out), requires_grad= False)\n",
    "w_k = torch.nn.Parameter(torch.rand(d_in, d_out), requires_grad= False)\n",
    "w_v = torch.nn.Parameter(torch.rand(d_in, d_out), requires_grad= False)"
   ]
  },
  {
   "cell_type": "code",
   "execution_count": 4,
   "id": "ae112908",
   "metadata": {},
   "outputs": [
    {
     "name": "stdout",
     "output_type": "stream",
     "text": [
      "Parameter containing:\n",
      "tensor([[0.2961, 0.5166],\n",
      "        [0.2517, 0.6886],\n",
      "        [0.0740, 0.8665]])\n"
     ]
    }
   ],
   "source": [
    "print(w_q)"
   ]
  },
  {
   "cell_type": "code",
   "execution_count": 5,
   "id": "a35300e0",
   "metadata": {},
   "outputs": [
    {
     "name": "stdout",
     "output_type": "stream",
     "text": [
      "Parameter containing:\n",
      "tensor([[0.1366, 0.1025],\n",
      "        [0.1841, 0.7264],\n",
      "        [0.3153, 0.6871]])\n"
     ]
    }
   ],
   "source": [
    "print(w_k)"
   ]
  },
  {
   "cell_type": "code",
   "execution_count": 6,
   "id": "99c6e717",
   "metadata": {},
   "outputs": [
    {
     "name": "stdout",
     "output_type": "stream",
     "text": [
      "Parameter containing:\n",
      "tensor([[0.0756, 0.1966],\n",
      "        [0.3164, 0.4017],\n",
      "        [0.1186, 0.8274]])\n"
     ]
    }
   ],
   "source": [
    "print(w_v)"
   ]
  },
  {
   "cell_type": "code",
   "execution_count": 7,
   "id": "ab136595",
   "metadata": {},
   "outputs": [],
   "source": [
    "input = inputs[1]"
   ]
  },
  {
   "cell_type": "code",
   "execution_count": 8,
   "id": "42d57bde",
   "metadata": {},
   "outputs": [
    {
     "name": "stdout",
     "output_type": "stream",
     "text": [
      "tensor([0.4306, 1.4551])\n"
     ]
    }
   ],
   "source": [
    "query_2  =  input @ w_q\n",
    "key_2 = input @ w_k\n",
    "value_2 = input @ w_v\n",
    "\n",
    "print(query_2)"
   ]
  },
  {
   "cell_type": "code",
   "execution_count": 9,
   "id": "ee299401",
   "metadata": {},
   "outputs": [
    {
     "name": "stdout",
     "output_type": "stream",
     "text": [
      "Keys Shape: torch.Size([6, 2])\n",
      "queries Shape: torch.Size([6, 2])\n",
      "values Shape: torch.Size([6, 2])\n"
     ]
    }
   ],
   "source": [
    "keys = inputs @ w_k\n",
    "queries = inputs @ w_q\n",
    "values = inputs @ w_v\n",
    "\n",
    "\n",
    "print(\"Keys Shape:\", keys.shape)\n",
    "print(\"queries Shape:\", queries.shape)\n",
    "print(\"values Shape:\", values.shape)"
   ]
  },
  {
   "cell_type": "code",
   "execution_count": 14,
   "id": "21b25abb",
   "metadata": {},
   "outputs": [
    {
     "data": {
      "text/plain": [
       "tensor([1.2705, 1.8524, 1.8111, 1.0909, 0.5577, 1.5553])"
      ]
     },
     "execution_count": 14,
     "metadata": {},
     "output_type": "execute_result"
    }
   ],
   "source": [
    "queries_2 = queries[1]\n",
    "attn_scores_2 = queries_2 @ keys.T\n",
    "attn_scores_2"
   ]
  },
  {
   "cell_type": "code",
   "execution_count": 17,
   "id": "9fb130b4",
   "metadata": {},
   "outputs": [
    {
     "name": "stdout",
     "output_type": "stream",
     "text": [
      "tensor([[0.9231, 1.3545, 1.3241, 0.7993, 0.4032, 1.1413],\n",
      "        [1.2705, 1.8524, 1.8111, 1.0909, 0.5577, 1.5553],\n",
      "        [1.2544, 1.8284, 1.7877, 1.0767, 0.5508, 1.5350],\n",
      "        [0.7042, 1.0269, 1.0040, 0.6048, 0.3091, 0.8624],\n",
      "        [0.6114, 0.8819, 0.8626, 0.5176, 0.2707, 0.7360],\n",
      "        [0.9057, 1.3255, 1.2958, 0.7815, 0.3964, 1.1153]])\n"
     ]
    }
   ],
   "source": [
    "attn_scores = queries @ keys.T\n",
    "print(attn_scores)"
   ]
  },
  {
   "cell_type": "code",
   "execution_count": 18,
   "id": "e1f616b8",
   "metadata": {},
   "outputs": [
    {
     "data": {
      "text/plain": [
       "tensor([[0.1548, 0.2100, 0.2055, 0.1418, 0.1072, 0.1806],\n",
       "        [0.1496, 0.2258, 0.2193, 0.1318, 0.0904, 0.1830],\n",
       "        [0.1500, 0.2250, 0.2187, 0.1323, 0.0912, 0.1829],\n",
       "        [0.1587, 0.1994, 0.1962, 0.1480, 0.1201, 0.1775],\n",
       "        [0.1608, 0.1947, 0.1920, 0.1505, 0.1264, 0.1756],\n",
       "        [0.1554, 0.2091, 0.2047, 0.1423, 0.1084, 0.1802]])"
      ]
     },
     "execution_count": 18,
     "metadata": {},
     "output_type": "execute_result"
    }
   ],
   "source": [
    "d_k = keys.shape[-1]\n",
    "\n",
    "attn_weights = torch.softmax(attn_scores/ d_k**0.5, dim = -1)\n",
    "attn_weights"
   ]
  },
  {
   "cell_type": "markdown",
   "id": "5edafc25",
   "metadata": {},
   "source": [
    "### WHY DIVIDE BY SQRT(DIMENSION)"
   ]
  },
  {
   "cell_type": "code",
   "execution_count": 19,
   "id": "82fe6fef",
   "metadata": {},
   "outputs": [
    {
     "name": "stdout",
     "output_type": "stream",
     "text": [
      "Softmax without scaling: tensor([0.1925, 0.1426, 0.2351, 0.1426, 0.2872])\n",
      "Softmax after scalling (tensor * 8): tensor([0.0326, 0.0030, 0.1615, 0.0030, 0.8000])\n"
     ]
    }
   ],
   "source": [
    "import torch \n",
    "\n",
    "# define tensor\n",
    "\n",
    "tensor = torch.tensor([0.1, -0.2, 0.3, -0.2, 0.5])\n",
    "\n",
    "# apply softmax without scaling\n",
    "softmax_result = torch.softmax(tensor , dim = -1)\n",
    "print(\"Softmax without scaling:\", softmax_result)\n",
    "\n",
    "\n",
    "# multiply the tensor by 8 and then apply softmax\n",
    "scaled_tensor = tensor * 8 \n",
    "softmax_scaled_result = torch.softmax(scaled_tensor, dim = -1)\n",
    "print(\"Softmax after scalling (tensor * 8):\", softmax_scaled_result)"
   ]
  },
  {
   "cell_type": "code",
   "execution_count": 20,
   "id": "a018ff1f",
   "metadata": {},
   "outputs": [
    {
     "name": "stdout",
     "output_type": "stream",
     "text": [
      "Variance before scaling (dim=5): 5.083496975415383\n",
      "Variance after scaling (dim=5): 1.0166993950830767\n",
      "Variance before scaling (dim=20): 19.525007039526592\n",
      "Variance after scaling (dim=20): 0.9762503519763293\n",
      "Variance before scaling (dim=100): 105.0492227626223\n",
      "Variance after scaling (dim=100): 1.0504922276262232\n"
     ]
    }
   ],
   "source": [
    "import numpy as np\n",
    "\n",
    "# function to compute variance before and after scaling\n",
    "def compute_variance(dim, num_traials = 1000):\n",
    "    dot_products = []\n",
    "    scaled_dot_products = []\n",
    "\n",
    "    # Generate multiple random vectors and compute dot products\n",
    "    for _ in range(num_traials):\n",
    "        q = np.random.randn(dim)\n",
    "        k = np.random.randn(dim)\n",
    "\n",
    "        # compute the dot product\n",
    "        dot_product = np.dot(q,k)\n",
    "        dot_products.append(dot_product)\n",
    "\n",
    "        # scaled the dot product by sqrt(dim)\n",
    "        scaled_dot_product = dot_product / np.sqrt(dim)\n",
    "        scaled_dot_products.append(scaled_dot_product)\n",
    "\n",
    "    # calculate the variance of the dot products\n",
    "    variance_before_scaling = np.var(dot_products)\n",
    "    variance_after_scaling = np.var(scaled_dot_products)\n",
    "\n",
    "    return variance_before_scaling, variance_after_scaling\n",
    "\n",
    "# for dimension 5\n",
    "variance_bfore_5 , variance_after_5 = compute_variance(5)\n",
    "print(f\"Variance before scaling (dim=5): {variance_bfore_5}\")\n",
    "print(f\"Variance after scaling (dim=5): {variance_after_5}\")\n",
    "\n",
    "\n",
    "\n",
    "# for dimension 20\n",
    "variance_bfore_20 , variance_after_20 = compute_variance(20)\n",
    "print(f\"Variance before scaling (dim=20): {variance_bfore_20}\")\n",
    "print(f\"Variance after scaling (dim=20): {variance_after_20}\")\n",
    "\n",
    "# for dimension 100\n",
    "variance_bfore_100 , variance_after_100 = compute_variance(100)\n",
    "print(f\"Variance before scaling (dim=100): {variance_bfore_100}\")\n",
    "print(f\"Variance after scaling (dim=100): {variance_after_100}\")"
   ]
  },
  {
   "cell_type": "code",
   "execution_count": 21,
   "id": "043deb42",
   "metadata": {},
   "outputs": [
    {
     "data": {
      "text/plain": [
       "tensor([[0.3003, 0.8070],\n",
       "        [0.3068, 0.8225],\n",
       "        [0.3065, 0.8218],\n",
       "        [0.2956, 0.7960],\n",
       "        [0.2934, 0.7909],\n",
       "        [0.2998, 0.8060]])"
      ]
     },
     "execution_count": 21,
     "metadata": {},
     "output_type": "execute_result"
    }
   ],
   "source": [
    "context_vector = attn_weights @ values\n",
    "context_vector"
   ]
  },
  {
   "cell_type": "markdown",
   "id": "cf2464e9",
   "metadata": {},
   "source": [
    "### IMPLEMENTING A COMPACT SELF ATTENTION "
   ]
  },
  {
   "cell_type": "code",
   "execution_count": null,
   "id": "941fae11",
   "metadata": {},
   "outputs": [],
   "source": [
    "import torch.nn as nn\n",
    "class SelfAttention_v1(nn.Module):\n",
    "    \n",
    "    def __init__(self,d_in:int , d_out:int):\n",
    "        super().__init__()\n",
    "        self.w_q = nn.Parameter(torch.rand(d_in ,d_out))\n",
    "        self.w_k = nn.Parameter(torch.rand(d_in ,d_out))\n",
    "        self.w_v = nn.Parameter(torch.rand(d_in ,d_out))\n",
    "    \n",
    "\n",
    "    def forward(self , x):\n",
    "        keys = x @ self.w_k\n",
    "        queries = x @ self.w_q\n",
    "        values = x @ self.w_v\n",
    "\n",
    "        attn_scores = queries @ keys.T \n",
    "        attn_weights = torch.softmax(\n",
    "            attn_scores / keys.shape[-1] ** 0.5 , dim = -1\n",
    "        )\n",
    "\n",
    "        context_vec = attn_scores @ values\n",
    "\n",
    "        return context_vec"
   ]
  },
  {
   "cell_type": "code",
   "execution_count": 27,
   "id": "b70fb63e",
   "metadata": {},
   "outputs": [
    {
     "data": {
      "text/plain": [
       "tensor([[0.4300, 0.1500, 0.8900],\n",
       "        [0.5500, 0.8700, 0.6600],\n",
       "        [0.5700, 0.8500, 0.6400],\n",
       "        [0.2200, 0.5800, 0.3400],\n",
       "        [0.7700, 0.2500, 0.1000],\n",
       "        [0.0500, 0.8100, 0.5500]])"
      ]
     },
     "execution_count": 27,
     "metadata": {},
     "output_type": "execute_result"
    }
   ],
   "source": [
    "inputs"
   ]
  },
  {
   "cell_type": "code",
   "execution_count": 30,
   "id": "ba0da112",
   "metadata": {},
   "outputs": [
    {
     "name": "stdout",
     "output_type": "stream",
     "text": [
      "tensor([[2.0137, 1.8613],\n",
      "        [3.7498, 3.4386],\n",
      "        [3.7287, 3.4196],\n",
      "        [2.1043, 1.9264],\n",
      "        [2.2993, 2.1153],\n",
      "        [2.4568, 2.2461]], grad_fn=<MmBackward0>)\n"
     ]
    }
   ],
   "source": [
    "sa_v1 = SelfAttention_v1(d_in= 3, d_out=2)\n",
    "\n",
    "print(sa_v1.forward(inputs))"
   ]
  },
  {
   "cell_type": "code",
   "execution_count": 35,
   "id": "5766fe94",
   "metadata": {},
   "outputs": [],
   "source": [
    "import torch.nn as nn\n",
    "class SelfAttention_v2(nn.Module):\n",
    "    \n",
    "    def __init__(self,d_in:int , d_out:int, qkv_bias = False):\n",
    "        super().__init__()\n",
    "        self.w_q = nn.Linear(d_in ,d_out, bias=qkv_bias)\n",
    "        self.w_k = nn.Linear(d_in ,d_out, bias=qkv_bias)\n",
    "        self.w_v = nn.Linear(d_in ,d_out, bias=qkv_bias)\n",
    "    \n",
    "    def forward(self , x):\n",
    "        keys = self.w_k(x)\n",
    "        queries = self.w_q(x)\n",
    "        values = self.w_v(x)\n",
    "\n",
    "        attn_scores = queries @ keys.T \n",
    "        attn_weights = torch.softmax(\n",
    "            attn_scores / keys.shape[-1] ** 0.5 , dim = -1\n",
    "        )\n",
    "\n",
    "        context_vec = attn_scores @ values\n",
    "\n",
    "        return context_vec"
   ]
  },
  {
   "cell_type": "code",
   "execution_count": 37,
   "id": "1ec61744",
   "metadata": {},
   "outputs": [
    {
     "name": "stdout",
     "output_type": "stream",
     "text": [
      "tensor([[-0.0543, -0.0684],\n",
      "        [-0.0750, -0.0909],\n",
      "        [-0.0732, -0.0885],\n",
      "        [-0.0441, -0.0540],\n",
      "        [-0.0203, -0.0191],\n",
      "        [-0.0641, -0.0809]], grad_fn=<MmBackward0>)\n"
     ]
    }
   ],
   "source": [
    "sa_v2 = SelfAttention_v2(d_in= 3, d_out=2)\n",
    "\n",
    "print(sa_v2(inputs))"
   ]
  }
 ],
 "metadata": {
  "kernelspec": {
   "display_name": "Python 3",
   "language": "python",
   "name": "python3"
  },
  "language_info": {
   "codemirror_mode": {
    "name": "ipython",
    "version": 3
   },
   "file_extension": ".py",
   "mimetype": "text/x-python",
   "name": "python",
   "nbconvert_exporter": "python",
   "pygments_lexer": "ipython3",
   "version": "3.10.0"
  }
 },
 "nbformat": 4,
 "nbformat_minor": 5
}
